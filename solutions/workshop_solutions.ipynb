{
 "cells": [
  {
   "attachments": {},
   "cell_type": "markdown",
   "metadata": {},
   "source": [
    "# Solutions to the workshop exercises"
   ]
  },
  {
   "cell_type": "code",
   "execution_count": null,
   "metadata": {},
   "outputs": [],
   "source": [
    "%load_ext autoreload\n",
    "%autoreload 2"
   ]
  },
  {
   "cell_type": "code",
   "execution_count": null,
   "metadata": {},
   "outputs": [],
   "source": [
    "import pandas as pd\n",
    "\n",
    "from evidently import ColumnMapping\n",
    "from evidently.report import Report\n",
    "from evidently.metric_preset import DataDriftPreset, DataQualityPreset, TargetDriftPreset, RegressionPreset\n",
    "from evidently.test_suite import TestSuite\n",
    "from evidently.test_preset import NoTargetPerformanceTestPreset, DataQualityTestPreset, DataStabilityTestPreset, DataDriftTestPreset, RegressionTestPreset\n",
    "\n",
    "from pathlib import Path\n",
    "\n",
    "from sklearn import datasets, ensemble, model_selection"
   ]
  },
  {
   "attachments": {},
   "cell_type": "markdown",
   "metadata": {},
   "source": [
    "### Regression model and California housing dataset"
   ]
  },
  {
   "cell_type": "code",
   "execution_count": null,
   "metadata": {},
   "outputs": [],
   "source": [
    "housing_data = datasets.fetch_california_housing(as_frame=\"auto\")\n",
    "housing = housing_data.frame\n",
    "\n",
    "housing.rename(columns={\"MedHouseVal\": \"target\"}, inplace=True)\n",
    "numerical_features_reg = [\n",
    "    \"MedInc\",\n",
    "    \"HouseAge\",\n",
    "    \"AveRooms\",\n",
    "    \"AveBedrms\",\n",
    "    \"Population\",\n",
    "    \"AveOccup\",\n",
    "    \"Latitude\",\n",
    "    \"Longitude\",\n",
    "]\n",
    "categorical_features_reg = []\n",
    "features_reg = numerical_features_reg\n",
    "\n",
    "housing_ref, housing_cur = model_selection.train_test_split(housing, test_size=0.3)\n",
    "\n",
    "housing_ref = housing_ref.sample(n=5000, replace=False)\n",
    "housing_cur = housing_cur.sample(n=1000, replace=False)\n",
    "\n",
    "reg_model = ensemble.RandomForestRegressor(random_state=42)\n",
    "reg_model.fit(housing_ref[features_reg], housing_ref.target)\n",
    "\n",
    "housing_ref[\"prediction\"] = reg_model.predict(housing_ref[features_reg])\n",
    "housing_cur[\"prediction\"] = reg_model.predict(housing_cur[features_reg])\n",
    "\n",
    "housing_ref_input_data = housing_ref[housing_ref.columns[~housing_ref.columns.isin([\"target\", \"prediction\"])]]\n",
    "housing_cur_input_data = housing_cur[housing_cur.columns[~housing_cur.columns.isin([\"target\", \"prediction\"])]]"
   ]
  },
  {
   "attachments": {},
   "cell_type": "markdown",
   "metadata": {},
   "source": [
    "## Model performance"
   ]
  },
  {
   "attachments": {},
   "cell_type": "markdown",
   "metadata": {},
   "source": [
    "### Column mapping"
   ]
  },
  {
   "attachments": {},
   "cell_type": "markdown",
   "metadata": {},
   "source": [
    "#### Exercise 1: Solution\n",
    "\n",
    "Map columns for the regression model\n"
   ]
  },
  {
   "cell_type": "code",
   "execution_count": null,
   "metadata": {},
   "outputs": [],
   "source": [
    "reg_column_mapping = ColumnMapping()\n",
    "\n",
    "reg_column_mapping.numerical_features = numerical_features_reg\n",
    "\n",
    "reg_column_mapping.target = \"target\"\n",
    "reg_column_mapping.prediction = \"prediction\"\n",
    "\n",
    "reg_column_mapping.task = \"regression\""
   ]
  },
  {
   "attachments": {},
   "cell_type": "markdown",
   "metadata": {},
   "source": [
    "### Regression Performance report"
   ]
  },
  {
   "attachments": {},
   "cell_type": "markdown",
   "metadata": {},
   "source": [
    "#### Exercise 2: Solution\n",
    "\n",
    "Create a Regression Performance report for the regression model, run it, show it and save it as html and json"
   ]
  },
  {
   "cell_type": "code",
   "execution_count": null,
   "metadata": {},
   "outputs": [],
   "source": [
    "# create the report and run it\n",
    "reg_performance_report = Report(metrics=[RegressionPreset()])\n",
    "reg_performance_report.run(reference_data=housing_ref, current_data=housing_cur, column_mapping=reg_column_mapping)"
   ]
  },
  {
   "cell_type": "code",
   "execution_count": null,
   "metadata": {},
   "outputs": [],
   "source": [
    "# show the report\n",
    "reg_performance_report.show(mode=\"inline\")"
   ]
  },
  {
   "cell_type": "code",
   "execution_count": null,
   "metadata": {},
   "outputs": [],
   "source": [
    "# save the report as html and json\n",
    "reg_performance_report.save_html(Path(\"reports\", \"reg_perf_report.html\"))\n",
    "reg_performance_report.save_json(Path(\"reports\", \"reg_perf_report.json\"))"
   ]
  },
  {
   "attachments": {},
   "cell_type": "markdown",
   "metadata": {},
   "source": [
    "## Handling the drift"
   ]
  },
  {
   "attachments": {},
   "cell_type": "markdown",
   "metadata": {},
   "source": [
    "#### Exercise 3: Solution\n",
    "\n",
    "Create a Data Quality report, Data Drift report, Target Drift report for the regression model, run them, show them and save them as html and json"
   ]
  },
  {
   "cell_type": "code",
   "execution_count": null,
   "metadata": {},
   "outputs": [],
   "source": [
    "# create all 3 reports and run them\n",
    "reg_data_quality_report = Report(metrics=[DataQualityPreset()])\n",
    "reg_data_quality_report.run(reference_data=housing_ref_input_data, current_data=housing_cur_input_data, column_mapping=reg_column_mapping)\n",
    "\n",
    "reg_data_drift_report = Report(metrics=[DataDriftPreset()])\n",
    "reg_data_drift_report.run(reference_data=housing_ref_input_data, current_data=housing_cur_input_data, column_mapping=reg_column_mapping)\n",
    "\n",
    "reg_target_drift_report = Report(metrics=[TargetDriftPreset()])\n",
    "reg_target_drift_report.run(reference_data=housing_ref, current_data=housing_cur, column_mapping=reg_column_mapping)"
   ]
  },
  {
   "cell_type": "code",
   "execution_count": null,
   "metadata": {},
   "outputs": [],
   "source": [
    "# show the reports\n",
    "reg_data_quality_report.show(mode=\"inline\")"
   ]
  },
  {
   "cell_type": "code",
   "execution_count": null,
   "metadata": {},
   "outputs": [],
   "source": [
    "reg_data_drift_report.show(mode=\"inline\")"
   ]
  },
  {
   "cell_type": "code",
   "execution_count": null,
   "metadata": {},
   "outputs": [],
   "source": [
    "reg_target_drift_report.show(mode=\"inline\")"
   ]
  },
  {
   "cell_type": "code",
   "execution_count": null,
   "metadata": {},
   "outputs": [],
   "source": [
    "# save the reports as html and json\n",
    "reg_data_quality_report.save_html(Path(\"reports\", \"reg_data_quality_report.html\"))\n",
    "reg_data_quality_report.save_json(Path(\"reports\", \"reg_data_quality_report.json\"))\n",
    "\n",
    "reg_data_drift_report.save_html(Path(\"reports\", \"reg_data_drift_report.html\"))\n",
    "reg_data_drift_report.save_json(Path(\"reports\", \"reg_data_drift_report.json\"))\n",
    "\n",
    "reg_target_drift_report.save_html(Path(\"reports\", \"reg_target_drift_report.html\"))\n",
    "reg_target_drift_report.save_json(Path(\"reports\", \"reg_target_drift_report.json\"))"
   ]
  },
  {
   "attachments": {},
   "cell_type": "markdown",
   "metadata": {},
   "source": [
    "## Test-based monitoring"
   ]
  },
  {
   "attachments": {},
   "cell_type": "markdown",
   "metadata": {},
   "source": [
    "### Pre-built test suites and their usage for the regression model\n",
    "#### Exercise 4: Solution\n",
    "\n",
    "Create a test suite with No Targert Performance, Data Quality, Data Stability, Data Drift, Regression test presets for the regression model, run it, show it and save it as html and json"
   ]
  },
  {
   "cell_type": "code",
   "execution_count": null,
   "metadata": {},
   "outputs": [],
   "source": [
    "# create a test suite and run it\n",
    "reg_test_suite = TestSuite(tests=[NoTargetPerformanceTestPreset(), DataQualityTestPreset(), DataStabilityTestPreset(), DataDriftTestPreset(), RegressionTestPreset()])\n",
    "reg_test_suite.run(reference_data=housing_ref, current_data=housing_cur, column_mapping=reg_column_mapping)"
   ]
  },
  {
   "cell_type": "code",
   "execution_count": null,
   "metadata": {},
   "outputs": [],
   "source": [
    "# show the test suite\n",
    "reg_test_suite.show(mode='inline')"
   ]
  },
  {
   "cell_type": "code",
   "execution_count": 21,
   "metadata": {},
   "outputs": [],
   "source": [
    "# save the test suite as html and json\n",
    "reg_test_suite.save_html(Path(\"reports\", \"reg_test_suite.html\"))\n",
    "reg_test_suite.save_json(Path(\"reports\", \"reg_test_suite.json\"))"
   ]
  }
 ],
 "metadata": {
  "kernelspec": {
   "display_name": "venv",
   "language": "python",
   "name": "python3"
  },
  "language_info": {
   "codemirror_mode": {
    "name": "ipython",
    "version": 3
   },
   "file_extension": ".py",
   "mimetype": "text/x-python",
   "name": "python",
   "nbconvert_exporter": "python",
   "pygments_lexer": "ipython3",
   "version": "3.10.7"
  },
  "vscode": {
   "interpreter": {
    "hash": "02e39585b4b4b1897ed0125bd838291ce52131bea27edd2a1bc31e43ed58f171"
   }
  }
 },
 "nbformat": 4,
 "nbformat_minor": 2
}
